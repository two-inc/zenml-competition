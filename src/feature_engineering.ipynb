{
 "cells": [
  {
   "cell_type": "markdown",
   "metadata": {},
   "source": [
    "## Feature Engineering & Model Testing"
   ]
  },
  {
   "cell_type": "code",
   "execution_count": 1,
   "metadata": {},
   "outputs": [],
   "source": [
    "import pandas as pd\n",
    "from sklearn.linear_model import LogisticRegression\n",
    "from util.data_access import load_data\n",
    "from sklearn.model_selection import train_test_split\n",
    "from sklearn.pipeline import Pipeline \n",
    "from sklearn.compose import ColumnTransformer\n",
    "from sklearn.preprocessing import OneHotEncoder"
   ]
  },
  {
   "cell_type": "code",
   "execution_count": null,
   "metadata": {},
   "outputs": [],
   "source": [
    "df_raw = load_data()\n",
    "X_train_raw, X_valid_raw, y_train_raw, y_valid_raw = train_test_split(df_raw.drop('fraud',axis=1),df_raw.loc[:,'fraud'])"
   ]
  },
  {
   "cell_type": "code",
   "execution_count": 24,
   "metadata": {},
   "outputs": [],
   "source": [
    "cat_columns = [\n",
    "    'customer',\n",
    "    'age',\n",
    "    'gender',\n",
    "    'merchant',\n",
    "    'category'\n",
    "]\n",
    "\n",
    "drop_columns = ['zipMerchant','zipcodeOri']\n",
    "\n",
    "def preprocess(X: pd.DataFrame, categorical_columns: list[str]) -> pd.DataFrame:\n",
    "    X = X.copy()\n",
    "    X[cat_columns] = X.loc[:,cat_columns].applymap(lambda x: x.strip(\"'\"))\n",
    "    X = X.drop(drop_columns,axis=1)\n",
    "    return X\n",
    "\n",
    "X_train = preprocess(X_train_raw, cat_columns)\n",
    "X_valid = preprocess(X_valid_raw,cat_columns)"
   ]
  },
  {
   "cell_type": "code",
   "execution_count": 25,
   "metadata": {},
   "outputs": [
    {
     "data": {
      "text/html": [
       "<div>\n",
       "<style scoped>\n",
       "    .dataframe tbody tr th:only-of-type {\n",
       "        vertical-align: middle;\n",
       "    }\n",
       "\n",
       "    .dataframe tbody tr th {\n",
       "        vertical-align: top;\n",
       "    }\n",
       "\n",
       "    .dataframe thead th {\n",
       "        text-align: right;\n",
       "    }\n",
       "</style>\n",
       "<table border=\"1\" class=\"dataframe\">\n",
       "  <thead>\n",
       "    <tr style=\"text-align: right;\">\n",
       "      <th></th>\n",
       "      <th>step</th>\n",
       "      <th>customer</th>\n",
       "      <th>age</th>\n",
       "      <th>gender</th>\n",
       "      <th>merchant</th>\n",
       "      <th>category</th>\n",
       "      <th>amount</th>\n",
       "    </tr>\n",
       "  </thead>\n",
       "  <tbody>\n",
       "    <tr>\n",
       "      <th>148111</th>\n",
       "      <td>52</td>\n",
       "      <td>C1413412440</td>\n",
       "      <td>2</td>\n",
       "      <td>F</td>\n",
       "      <td>M348934600</td>\n",
       "      <td>es_transportation</td>\n",
       "      <td>39.90</td>\n",
       "    </tr>\n",
       "    <tr>\n",
       "      <th>191992</th>\n",
       "      <td>66</td>\n",
       "      <td>C1113166893</td>\n",
       "      <td>5</td>\n",
       "      <td>F</td>\n",
       "      <td>M85975013</td>\n",
       "      <td>es_food</td>\n",
       "      <td>54.39</td>\n",
       "    </tr>\n",
       "    <tr>\n",
       "      <th>179728</th>\n",
       "      <td>62</td>\n",
       "      <td>C153258882</td>\n",
       "      <td>4</td>\n",
       "      <td>F</td>\n",
       "      <td>M1823072687</td>\n",
       "      <td>es_transportation</td>\n",
       "      <td>11.46</td>\n",
       "    </tr>\n",
       "    <tr>\n",
       "      <th>126894</th>\n",
       "      <td>45</td>\n",
       "      <td>C2086664398</td>\n",
       "      <td>2</td>\n",
       "      <td>F</td>\n",
       "      <td>M348934600</td>\n",
       "      <td>es_transportation</td>\n",
       "      <td>47.67</td>\n",
       "    </tr>\n",
       "    <tr>\n",
       "      <th>494070</th>\n",
       "      <td>152</td>\n",
       "      <td>C817389751</td>\n",
       "      <td>5</td>\n",
       "      <td>F</td>\n",
       "      <td>M1823072687</td>\n",
       "      <td>es_transportation</td>\n",
       "      <td>35.47</td>\n",
       "    </tr>\n",
       "    <tr>\n",
       "      <th>...</th>\n",
       "      <td>...</td>\n",
       "      <td>...</td>\n",
       "      <td>...</td>\n",
       "      <td>...</td>\n",
       "      <td>...</td>\n",
       "      <td>...</td>\n",
       "      <td>...</td>\n",
       "    </tr>\n",
       "    <tr>\n",
       "      <th>221145</th>\n",
       "      <td>75</td>\n",
       "      <td>C23582994</td>\n",
       "      <td>2</td>\n",
       "      <td>F</td>\n",
       "      <td>M348934600</td>\n",
       "      <td>es_transportation</td>\n",
       "      <td>43.41</td>\n",
       "    </tr>\n",
       "    <tr>\n",
       "      <th>427314</th>\n",
       "      <td>134</td>\n",
       "      <td>C1642006830</td>\n",
       "      <td>3</td>\n",
       "      <td>F</td>\n",
       "      <td>M1823072687</td>\n",
       "      <td>es_transportation</td>\n",
       "      <td>47.37</td>\n",
       "    </tr>\n",
       "    <tr>\n",
       "      <th>210581</th>\n",
       "      <td>72</td>\n",
       "      <td>C269960003</td>\n",
       "      <td>1</td>\n",
       "      <td>M</td>\n",
       "      <td>M348934600</td>\n",
       "      <td>es_transportation</td>\n",
       "      <td>18.71</td>\n",
       "    </tr>\n",
       "    <tr>\n",
       "      <th>466469</th>\n",
       "      <td>145</td>\n",
       "      <td>C1095821033</td>\n",
       "      <td>4</td>\n",
       "      <td>F</td>\n",
       "      <td>M1823072687</td>\n",
       "      <td>es_transportation</td>\n",
       "      <td>22.90</td>\n",
       "    </tr>\n",
       "    <tr>\n",
       "      <th>111949</th>\n",
       "      <td>40</td>\n",
       "      <td>C1808385426</td>\n",
       "      <td>2</td>\n",
       "      <td>M</td>\n",
       "      <td>M1352454843</td>\n",
       "      <td>es_hotelservices</td>\n",
       "      <td>122.47</td>\n",
       "    </tr>\n",
       "  </tbody>\n",
       "</table>\n",
       "<p>445982 rows × 7 columns</p>\n",
       "</div>"
      ],
      "text/plain": [
       "        step     customer age gender     merchant           category  amount\n",
       "148111    52  C1413412440   2      F   M348934600  es_transportation   39.90\n",
       "191992    66  C1113166893   5      F    M85975013            es_food   54.39\n",
       "179728    62   C153258882   4      F  M1823072687  es_transportation   11.46\n",
       "126894    45  C2086664398   2      F   M348934600  es_transportation   47.67\n",
       "494070   152   C817389751   5      F  M1823072687  es_transportation   35.47\n",
       "...      ...          ...  ..    ...          ...                ...     ...\n",
       "221145    75    C23582994   2      F   M348934600  es_transportation   43.41\n",
       "427314   134  C1642006830   3      F  M1823072687  es_transportation   47.37\n",
       "210581    72   C269960003   1      M   M348934600  es_transportation   18.71\n",
       "466469   145  C1095821033   4      F  M1823072687  es_transportation   22.90\n",
       "111949    40  C1808385426   2      M  M1352454843   es_hotelservices  122.47\n",
       "\n",
       "[445982 rows x 7 columns]"
      ]
     },
     "execution_count": 25,
     "metadata": {},
     "output_type": "execute_result"
    }
   ],
   "source": [
    "X_train"
   ]
  },
  {
   "cell_type": "code",
   "execution_count": null,
   "metadata": {},
   "outputs": [
    {
     "ename": "",
     "evalue": "",
     "output_type": "error",
     "traceback": [
      "\u001b[1;31mCanceled future for execute_request message before replies were done"
     ]
    },
    {
     "ename": "",
     "evalue": "",
     "output_type": "error",
     "traceback": [
      "\u001b[1;31mThe Kernel crashed while executing code in the the current cell or a previous cell. Please review the code in the cell(s) to identify a possible cause of the failure. Click <a href='https://aka.ms/vscodeJupyterKernelCrash'>here</a> for more info. View Jupyter <a href='command:jupyter.viewOutput'>log</a> for further details."
     ]
    }
   ],
   "source": [
    "transformer = ColumnTransformer([\n",
    "    ('categorical_transformation', OneHotEncoder(drop='first', sparse=False), ['age','gender','category'])\n",
    "], remainder='passthrough')\n",
    "\n",
    "one_hot_encoded = pd.DataFrame(\n",
    "    transformer.fit_transform(X_train),\n",
    "    columns=transformer.get_feature_names_out()\n",
    ")\n",
    "one_hot_encoded.head()\n",
    "\n",
    "\n"
   ]
  },
  {
   "cell_type": "code",
   "execution_count": null,
   "metadata": {},
   "outputs": [],
   "source": []
  }
 ],
 "metadata": {
  "kernelspec": {
   "display_name": "Python 3.9.2 ('env': venv)",
   "language": "python",
   "name": "python3"
  },
  "language_info": {
   "codemirror_mode": {
    "name": "ipython",
    "version": 3
   },
   "file_extension": ".py",
   "mimetype": "text/x-python",
   "name": "python",
   "nbconvert_exporter": "python",
   "pygments_lexer": "ipython3",
   "version": "3.9.2"
  },
  "orig_nbformat": 4,
  "vscode": {
   "interpreter": {
    "hash": "246045aacf2e17d755aa090c4afeac54f892a9c5f9e3d8c8bd024131ea4861d1"
   }
  }
 },
 "nbformat": 4,
 "nbformat_minor": 2
}
