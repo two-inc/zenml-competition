{
 "cells": [
  {
   "cell_type": "markdown",
   "metadata": {},
   "source": [
    "## Feature Engineering & Model Testing"
   ]
  },
  {
   "cell_type": "code",
   "execution_count": 1,
   "metadata": {},
   "outputs": [],
   "source": [
    "import pandas as pd\n",
    "import numpy as np\n",
    "from util.data_access import load_data\n",
    "from util.preprocess import get_preprocessed_data, get_column_indices, train_test_split_by_step, SEED\n",
    "from sklearn.model_selection import RandomizedSearchCV\n",
    "from util.tracking import get_classification_metrics, LGBM_TRAIN_PARAMS\n",
    "from util import columns\n",
    "from skopt import BayesSearchCV\n",
    "import lightgbm as lgb\n",
    "from dotenv import load_dotenv\n",
    "load_dotenv()\n",
    "import datetime\n",
    "\n",
    "import os\n",
    "import mlflow\n",
    "mlflow.set_tracking_uri(os.environ['MLFLOW_TRACKING_URI']) \n",
    "\n",
    "\n",
    "EXPERIMENT_NAME = 'Fraud Model Feature Engineering Loop'\n",
    "\n",
    "try:\n",
    "    EXPERIMENT_ID = mlflow.get_experiment_by_name(EXPERIMENT_NAME)\n",
    "except Exception as e:\n",
    "    print(e)\n",
    "    EXPERIMENT_ID = mlflow.create_experiment(EXPERIMENT_NAME)"
   ]
  },
  {
   "cell_type": "code",
   "execution_count": 2,
   "metadata": {},
   "outputs": [],
   "source": [
    "df_raw = load_data()\n",
    "\n",
    "df = get_preprocessed_data(df_raw)\n",
    "\n",
    "X_train, X_valid, y_train, y_valid = train_test_split_by_step(\n",
    "    data=df,\n",
    "    step='step',\n",
    "    target='fraud',\n",
    "    train_size=0.8\n",
    ")\n"
   ]
  },
  {
   "cell_type": "code",
   "execution_count": 3,
   "metadata": {},
   "outputs": [],
   "source": [
    "assert all(i in columns.NUMERICAL for i in columns.FRAUD_COMMITED_MEAN)"
   ]
  },
  {
   "cell_type": "code",
   "execution_count": 4,
   "metadata": {},
   "outputs": [
    {
     "name": "stderr",
     "output_type": "stream",
     "text": [
      "/home/simontwo/zenml-competition/env/lib/python3.9/site-packages/lightgbm/basic.py:2065: UserWarning: Using categorical_feature in Dataset.\n",
      "  _log_warning('Using categorical_feature in Dataset.')\n"
     ]
    }
   ],
   "source": [
    "SEARCH = False\n",
    "train_data = X_train.loc[:,columns.MODEL]\n",
    "valid_data = X_valid.loc[:,columns.MODEL]\n",
    "_cat_columns_idx = get_column_indices(train_data,columns.CATEGORICAL)\n",
    "\n",
    "model = lgb.LGBMClassifier(\n",
    "    **LGBM_TRAIN_PARAMS,\n",
    "    random_state=SEED,\n",
    "    n_jobs=-1\n",
    ")\n",
    "\n",
    "if SEARCH:\n",
    "    param_dist = {\n",
    "        'max_depth': (3, 100),\n",
    "        'n_estimators': (100, 300),\n",
    "        'num_leaves': (40, 60),\n",
    "        'learning_rate': (1e-4, 1e-1, 'log-uniform'),\n",
    "    }\n",
    "    estimator = BayesSearchCV(\n",
    "        model,\n",
    "        search_spaces=param_dist,\n",
    "        n_iter=50,\n",
    "        cv=5,\n",
    "        n_jobs=-1 \n",
    "        )\n",
    "    estimator.fit(train_data, y_train, categorical_feature=_cat_columns_idx)\n",
    "    params = estimator.best_params_\n",
    "else:\n",
    "    estimator = model\n",
    "    estimator.fit(train_data,y_train,categorical_feature=_cat_columns_idx)"
   ]
  },
  {
   "cell_type": "code",
   "execution_count": 5,
   "metadata": {},
   "outputs": [
    {
     "ename": "NameError",
     "evalue": "name 'params' is not defined",
     "output_type": "error",
     "traceback": [
      "\u001b[0;31m---------------------------------------------------------------------------\u001b[0m",
      "\u001b[0;31mNameError\u001b[0m                                 Traceback (most recent call last)",
      "Cell \u001b[0;32mIn [5], line 12\u001b[0m\n\u001b[1;32m      9\u001b[0m y_pred_proba_train \u001b[39m=\u001b[39m estimator\u001b[39m.\u001b[39mpredict(train_data)\n\u001b[1;32m     10\u001b[0m train_metrics \u001b[39m=\u001b[39m get_classification_metrics(y_train,y_pred_train,y_pred_proba_train)\n\u001b[0;32m---> 12\u001b[0m \u001b[39mfor\u001b[39;00m key, val \u001b[39min\u001b[39;00m params\u001b[39m.\u001b[39mitems():\n\u001b[1;32m     13\u001b[0m     mlflow\u001b[39m.\u001b[39mlog_param(key,val)\n\u001b[1;32m     15\u001b[0m \u001b[39mfor\u001b[39;00m key, val \u001b[39min\u001b[39;00m train_metrics\u001b[39m.\u001b[39mitems():\n",
      "\u001b[0;31mNameError\u001b[0m: name 'params' is not defined"
     ]
    }
   ],
   "source": [
    "with mlflow.start_run(experiment_id='3') as run:\n",
    "    mlflow.log_param('Train Data Dimension', train_data.shape)     \n",
    "    mlflow.log_param('Train Target Bad Rate', y_train.mean())     \n",
    "    mlflow.log_param('Valid Data Dimension', valid_data.shape)     \n",
    "    mlflow.log_param('Valid Target Dimension', y_valid.mean())     \n",
    "\n",
    "    mlflow.log_param('Model Type', model.__class__.__name__)\n",
    "    y_pred_train = estimator.predict(train_data)\n",
    "    y_pred_proba_train = estimator.predict(train_data)\n",
    "    train_metrics = get_classification_metrics(y_train,y_pred_train,y_pred_proba_train)\n",
    "\n",
    "    for key, val in params.items():\n",
    "        mlflow.log_param(key,val)\n",
    "\n",
    "    for key, val in train_metrics.items():\n",
    "        mlflow.log_metric(f'Train {key}', val)\n",
    "\n",
    "    y_pred_valid = estimator.predict(valid_data)\n",
    "    y_pred_proba_valid = estimator.predict(valid_data)\n",
    "    train_metrics = get_classification_metrics(y_valid,y_pred_valid,y_pred_proba_valid)\n",
    "\n",
    "    for key, val in train_metrics.items():\n",
    "        mlflow.log_metric(f'Validation {key}', val)"
   ]
  },
  {
   "cell_type": "code",
   "execution_count": null,
   "metadata": {},
   "outputs": [],
   "source": [
    "import shap\n",
    "explainer = shap.TreeExplainer(estimator)\n",
    "explain_data = train_data.sample(frac=0.1)\n",
    "shap_values = explainer.shap_values(explain_data)\n"
   ]
  },
  {
   "cell_type": "code",
   "execution_count": null,
   "metadata": {},
   "outputs": [],
   "source": [
    "shap.summary_plot(shap_values, explain_data)"
   ]
  }
 ],
 "metadata": {
  "kernelspec": {
   "display_name": "Python 3.9.2 ('env': venv)",
   "language": "python",
   "name": "python3"
  },
  "language_info": {
   "codemirror_mode": {
    "name": "ipython",
    "version": 3
   },
   "file_extension": ".py",
   "mimetype": "text/x-python",
   "name": "python",
   "nbconvert_exporter": "python",
   "pygments_lexer": "ipython3",
   "version": "3.9.2"
  },
  "orig_nbformat": 4,
  "vscode": {
   "interpreter": {
    "hash": "246045aacf2e17d755aa090c4afeac54f892a9c5f9e3d8c8bd024131ea4861d1"
   }
  }
 },
 "nbformat": 4,
 "nbformat_minor": 2
}
