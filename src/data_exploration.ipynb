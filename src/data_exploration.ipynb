{
 "cells": [
  {
   "cell_type": "markdown",
   "metadata": {},
   "source": [
    "# Detecting Fraudulent Financial Transactions\n",
    "\n",
    "The purpose of this analysis is to initially explore the data to identify variables that correlate with fraudulent transactions, cleanse the data, and exclude any data we deem to be irrelevant.\n",
    "\n",
    "This cleansed dataset will then be fed into our machine learning model to developer a generalized model for fraud detection.\n",
    "\n",
    "NB: At first glance, this data looks to be be heavily skewed towards fraudulent orders hidden within repeat customer orders, so the eventual model will be better suited to identifying repeat order fraud, and much less so first order fraud.\n",
    "    - This is based on the understanding that `step` is the x order placed by a customer for a merchant, but this may be incorrect."
   ]
  },
  {
   "cell_type": "code",
   "execution_count": 1,
   "metadata": {},
   "outputs": [
    {
     "name": "stdout",
     "output_type": "stream",
     "text": [
      "Length of dataset: 594643\n"
     ]
    },
    {
     "data": {
      "text/plain": [
       "<bound method NDFrame.head of         step       customer  age gender zipcodeOri       merchant zipMerchant             category  amount  fraud\n",
       "0          0  'C1093826151'  '4'    'M'    '28007'   'M348934600'     '28007'  'es_transportation'    4.55      0\n",
       "1          0   'C352968107'  '2'    'M'    '28007'   'M348934600'     '28007'  'es_transportation'   39.68      0\n",
       "2          0  'C2054744914'  '4'    'F'    '28007'  'M1823072687'     '28007'  'es_transportation'   26.89      0\n",
       "3          0  'C1760612790'  '3'    'M'    '28007'   'M348934600'     '28007'  'es_transportation'   17.25      0\n",
       "4          0   'C757503768'  '5'    'M'    '28007'   'M348934600'     '28007'  'es_transportation'   35.72      0\n",
       "...      ...            ...  ...    ...        ...            ...         ...                  ...     ...    ...\n",
       "594638   179  'C1753498738'  '3'    'F'    '28007'  'M1823072687'     '28007'  'es_transportation'   20.53      0\n",
       "594639   179   'C650108285'  '4'    'F'    '28007'  'M1823072687'     '28007'  'es_transportation'   50.73      0\n",
       "594640   179   'C123623130'  '2'    'F'    '28007'   'M349281107'     '28007'         'es_fashion'   22.44      0\n",
       "594641   179  'C1499363341'  '5'    'M'    '28007'  'M1823072687'     '28007'  'es_transportation'   14.46      0\n",
       "594642   179   'C616528518'  '4'    'F'    '28007'  'M1823072687'     '28007'  'es_transportation'   26.93      0\n",
       "\n",
       "[594643 rows x 10 columns]>"
      ]
     },
     "execution_count": 1,
     "metadata": {},
     "output_type": "execute_result"
    }
   ],
   "source": [
    "import pandas as pd\n",
    "from util.data_access import load_data\n",
    "\n",
    "pd.set_option('display.expand_frame_repr', False)\n",
    "\n",
    "df = load_data()\n",
    "print(\"Length of dataset:\", len(df))\n",
    "\n",
    "df.head"
   ]
  },
  {
   "cell_type": "markdown",
   "metadata": {},
   "source": [
    "# Initial Comments\n",
    "based on the Pandas profiling report\n",
    "\n",
    "## Data Cleansing\n",
    "- Some orders have an order amount of 0. None of these orders are fraudulent, so I believe it's safe to remove these orders.\n",
    "- zipMerchant and zipCodeOri are both constant, providing no value. These columns can be removed.\n",
    "\n",
    "## Data Patterns\n",
    "- Average number of orders placed per customer is 95.\n",
    "- Only 4000 customers with 594643 orders, meaning our dataset is highly skewed towards repeat order fraud detection. This is due to the nature our dataset is synthetic.\n",
    "- Gender is highly correlated with age. This skews our model as there should be no significant correlation between gender and age.\n",
    "- Only 50 merchants, and merchant is highly correlated with fraud.\n",
    "- Data is extremely skewed towards the `es_transportation` category (85% of all orders). \n",
    "\n",
    "- Age\n",
    "    - 0: <=18\n",
    "    - 1: 19-25\n",
    "    - 2: 26-35\n",
    "    - 3: 36-45\n",
    "    - 4: 46-55\n",
    "    - 5: 56-65\n",
    "    - 6: >65\n",
    "    - U: Unknown\n",
    "\n",
    "- Gender\n",
    "    - E: Enterprise\n",
    "    - F: Female\n",
    "    - M: Male\n",
    "    - U: Unkown"
   ]
  },
  {
   "cell_type": "code",
   "execution_count": null,
   "metadata": {},
   "outputs": [],
   "source": [
    "print(\"Length of 0 amount orders:\", len(df.query('amount == 0')))\n",
    "assert len(df.query('amount == 0 and fraud == 1')) == 0\n",
    "\n",
    "# Drop 0 amount orders\n",
    "df = df.loc[df['amount'] != 0]\n",
    "print(len(df))\n",
    "\n",
    "# Drop constant columns\n",
    "df = df.drop(columns=['zipcodeOri', 'zipMerchant'])\n",
    "\n",
    "df.head\n",
    "\n",
    "\n"
   ]
  },
  {
   "cell_type": "code",
   "execution_count": null,
   "metadata": {},
   "outputs": [],
   "source": [
    "assert len(df.query('category.str.contains(\"es_transportation\") and fraud == 1')) == 0\n",
    "\n",
    "# Absolutely no fraudulent transactions were in category es_transportation with 85% of all orders.\n",
    "# Grouping fraudulent transactions based on category\n",
    "\n",
    "# Percentage of fraudulent orders\n",
    "df.groupby(by=[\"category\"])['fraud'].value_counts(normalize=True)\n",
    "\n"
   ]
  },
  {
   "cell_type": "markdown",
   "metadata": {},
   "source": [
    "## Fraud Percentages by Category\n",
    "\n",
    "1. `es_leisure`: 95%\n",
    "2. `es_travel`: 79%\n",
    "3. `es_sportsandtoys`: 50%\n",
    "4. `es_hotelservices`: 31%\n",
    "5. `es_otherservices`: 25%\n",
    "6. `es_home`: 15%\n",
    "7. `es_health`: 11%\n",
    "8. `es_tech`: 7%\n",
    "9. `es_wellnessandbeauty`: 5%\n",
    "10. `es_hyper`: 5%\n",
    "11. `es_barsandrestaurants`: 2%\n",
    "12. `es_fashion`: 2%\n",
    "13: `es_contents`, `es_food`, `es_transportation`: 0%"
   ]
  },
  {
   "cell_type": "code",
   "execution_count": null,
   "metadata": {},
   "outputs": [],
   "source": [
    "merchant_grouping = df.groupby('merchant')['fraud'].value_counts(normalize=True).rename('proportion').reset_index(level=1)\n",
    "merchant_grouping[merchant_grouping['fraud'] == 1].sort_values('proportion',ascending=False) "
   ]
  },
  {
   "cell_type": "markdown",
   "metadata": {},
   "source": [
    "## Highest Fraud Rates per Merchant\n",
    "- 'M1294758098': 0.963351\n",
    "- 'M3697346': 0.941558\n",
    "- 'M1873032707': 0.864000\n",
    "- 'M732195782': 0.851974\n",
    "- 'M980657600': 0.832109\n",
    "- 'M1353266412': 0.820513\n",
    "- 'M857378720': 0.754098\n",
    "- 'M2080407379': 0.750000\n",
    "- 'M2011752106': 0.680328\n",
    "- 'M17379832': 0.631206\n",
    "- 'M2122776122': 0.586510\n",
    "\n",
    "Interesting note: Only 30 merchants had fraudulent transactions placed. Really low number."
   ]
  },
  {
   "cell_type": "code",
   "execution_count": null,
   "metadata": {},
   "outputs": [],
   "source": [
    "customer_grouping = df.groupby('customer')['fraud'].value_counts(normalize=True).rename('proportion').reset_index(level=1)\n",
    "customer_grouping[customer_grouping['fraud'] == 1].sort_values('proportion',ascending=False).query('proportion > 0.5')\n",
    "\n",
    "# Potentially some more complex analysis here to understand the percentiles (how many customers commit fraud 90-100% of the time, 80-90% etc)"
   ]
  },
  {
   "cell_type": "markdown",
   "metadata": {},
   "source": [
    "# Highest Fraud Rates per Customer\n",
    "- 'C910454738': 0.945652\n",
    "- 'C2004941826': 0.944444\n",
    "- 'C381007057': 0.890000\n",
    "- 'C1572610482': 0.881188\n",
    "- 'C617723960': 0.869565\n",
    "- 'C2113737065': 0.868132\n",
    "- 'C2060410910': 0.846154\n",
    "- 'C483912131': 0.816327\n",
    "- 'C1809646275': 0.800000\n",
    "- 'C1817318774': 0.776786\n",
    "- 'C1350963410': 0.753927\n",
    "- 'C1849046345': 0.742690\n",
    "- 'C1175850429': 0.725664\n",
    "- 'C371517012': 0.720000\n",
    "- 'C1233811793': 0.714286\n",
    "- 'C1454826238': 0.700000\n",
    "- 'C126638730': 0.681818\n",
    "- 'C611182051': 0.671642\n",
    "- 'C1803182614': 0.666667\n",
    "- 'C231476583': 0.640000\n",
    "- 'C1464489812': 0.634783\n",
    "- 'C932908444': 0.632353\n",
    "- 'C1237248073': 0.629630\n",
    "- 'C650117238': 0.625000\n",
    "- 'C245117318': 0.620370\n",
    "- 'C1685492470': 0.606742\n",
    "- 'C1562081159': 0.600000\n",
    "- 'C1338125837': 0.552632\n",
    "- 'C204205576': 0.550000\n",
    "- 'C616715154': 0.547619\n",
    "- 'C751887992': 0.541667\n",
    "- 'C1560904250': 0.538462\n",
    "- 'C1994178184': 0.537736\n",
    "- 'C806399525': 0.527426\n",
    "- 'C1163388474': 0.526316\n",
    "- 'C894204131': 0.523810\n",
    "- 'C1653588482': 0.517857"
   ]
  }
 ],
 "metadata": {
  "kernelspec": {
   "display_name": "Python 3 (ipykernel)",
   "language": "python",
   "name": "python3"
  },
  "language_info": {
   "codemirror_mode": {
    "name": "ipython",
    "version": 3
   },
   "file_extension": ".py",
   "mimetype": "text/x-python",
   "name": "python",
   "nbconvert_exporter": "python",
   "pygments_lexer": "ipython3",
   "version": "3.9.12"
  },
  "vscode": {
   "interpreter": {
    "hash": "c76d172c0aea48644224b5248669e3499267377a8f4ed1bbf020fb417330b079"
   }
  }
 },
 "nbformat": 4,
 "nbformat_minor": 2
}
