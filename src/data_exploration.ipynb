{
 "cells": [
  {
   "cell_type": "markdown",
   "metadata": {},
   "source": [
    "# Detecting Fraudulent Financial Transactions\n",
    "\n",
    "The purpose of this analysis is to initially explore the data to identify variables that correlate with fraudulent transactions, cleanse the data, and exclude any data we deem to be irrelevant.\n",
    "\n",
    "This cleansed dataset will then be fed into our machine learning model to developer a generalized model for fraud detection.\n",
    "\n",
    "NB: At first glance, this data looks to be be heavily skewed towards fraudulent orders hidden within repeat customer orders, so the eventual model will be better suited to identifying repeat order fraud, and much less so first order fraud.\n",
    "    - This is based on the understanding that `step` is the x order placed by a customer for a merchant, but this may be incorrect."
   ]
  },
  {
   "cell_type": "code",
   "execution_count": null,
   "metadata": {},
   "outputs": [],
   "source": [
    "import pandas as pd\n",
    "import seaborn as sns\n",
    "import numpy as np\n",
    "import matplotlib.pyplot as plt\n",
    "from util.data_access import load_data\n",
    "from util.preprocess import (\n",
    "    preprocess,\n",
    "    cat_columns,\n",
    "    print_description,\n",
    ")\n",
    "\n",
    "pd.set_option(\"display.expand_frame_repr\", False)\n",
    "\n",
    "df_raw = load_data()\n",
    "print(\"Length of dataset:\", len(df_raw))\n",
    "\n",
    "df_raw.head()"
   ]
  },
  {
   "cell_type": "markdown",
   "metadata": {},
   "source": [
    "# Initial Comments\n",
    "based on the Pandas profiling report\n",
    "\n",
    "## Data Cleansing\n",
    "- 52 non-fraudulent orders have an order amount of 0. None of these orders are fraudulent, so I believe it's safe to remove these orders.\n",
    "- zipMerchant and zipCodeOri are both constant, providing no value. These columns can be removed.\n",
    "\n",
    "## Data Patterns\n",
    "- Average number of orders placed per customer is 95.\n",
    "- Only 4000 customers with 594643 orders, meaning our dataset is highly skewed towards repeat order fraud detection. This is due to the nature our dataset is synthetic.\n",
    "- Gender is highly correlated with age. This skews our model as there should be no significant correlation between gender and age.\n",
    "- Only 50 merchants, and merchant is highly correlated with fraud.\n",
    "- Data is extremely skewed towards the `es_transportation` category (85% of all orders). \n",
    "\n",
    "- Age\n",
    "    - 0: <=18\n",
    "    - 1: 19-25\n",
    "    - 2: 26-35\n",
    "    - 3: 36-45\n",
    "    - 4: 46-55\n",
    "    - 5: 56-65\n",
    "    - 6: >65\n",
    "    - U: Unknown\n",
    "\n",
    "- Gender\n",
    "    - E: Enterprise\n",
    "    - F: Female\n",
    "    - M: Male\n",
    "    - U: Unkown"
   ]
  },
  {
   "cell_type": "code",
   "execution_count": null,
   "metadata": {},
   "outputs": [],
   "source": [
    "print(\"Length of 0 amount orders:\", len(df_raw.query(\"amount == 0\")))\n",
    "assert len(df_raw.query(\"amount == 0 and fraud == 1\")) == 0\n",
    "\n",
    "drop_columns = [\"zipMerchant\", \"zipcodeOri\"]\n",
    "df = preprocess(df_raw, cat_columns, drop_columns)"
   ]
  },
  {
   "cell_type": "code",
   "execution_count": null,
   "metadata": {},
   "outputs": [],
   "source": [
    "## Data Subsets\n",
    "df_fraud = df[df.loc[:, \"fraud\"] == 1]\n",
    "df_no_fraud = df[df.loc[:, \"fraud\"] == 0]\n",
    "\n",
    "customer_grouping = (\n",
    "    df.groupby(\"customer\")[\"fraud\"]\n",
    "    .value_counts(normalize=True)\n",
    "    .rename(\"proportion\")\n",
    "    .reset_index(level=1)\n",
    ")\n",
    "merchant_grouping = (\n",
    "    df.groupby(\"merchant\")[\"fraud\"]\n",
    "    .value_counts(normalize=True)\n",
    "    .rename(\"proportion\")\n",
    "    .reset_index(level=1)\n",
    ")\n",
    "average_amount_by_customer = df.groupby(\"customer\")[\"amount\"].mean()\n",
    "unique_transactions_by_customer = (\n",
    "    df.groupby(\"customer\").count()[\"fraud\"].sort_values()\n",
    ")\n",
    "fraud_proportion_by_category = (\n",
    "    df.groupby(by=[\"category\"])[\"fraud\"]\n",
    "    .value_counts(normalize=True)\n",
    "    .rename(\"proportion\")\n",
    "    .reset_index()\n",
    ")\n",
    "\n",
    "\n",
    "non_fraud_customer_ids = (\n",
    "    customer_grouping.query(\"fraud == 0\")\n",
    "    .query(\"proportion == 1\")\n",
    "    .reset_index()[\"customer\"]\n",
    ")\n",
    "fraud_customer_ids = df[~df[\"customer\"].isin(non_fraud_customer_ids)][\n",
    "    \"customer\"\n",
    "].unique()\n",
    "assert len(non_fraud_customer_ids) + len(fraud_customer_ids) == len(\n",
    "    df.customer.unique()\n",
    ")\n",
    "\n",
    "df_fraud_customer = df[df.customer.isin(fraud_customer_ids)]\n",
    "df_non_fraud_customer = df[df.customer.isin(non_fraud_customer_ids)]"
   ]
  },
  {
   "cell_type": "code",
   "execution_count": null,
   "metadata": {},
   "outputs": [],
   "source": [
    "# Percentage of fraudulent orders\n",
    "fig, ax = plt.subplots(1, 1, figsize=(10, 10))\n",
    "\n",
    "sns.barplot(\n",
    "    data=fraud_proportion_by_category,\n",
    "    y=\"category\",\n",
    "    x=\"proportion\",\n",
    "    hue=\"fraud\",\n",
    "    ax=ax,\n",
    "    dodge=False,\n",
    ")\n",
    "ax.set_xlabel(\"Transaction Proportion\")\n",
    "ax.set_ylabel(\"Category\")\n",
    "ax.set_title(\n",
    "    \"Proportion of Fraudulent vs. Non-Fraudulent Transactions by Category\"\n",
    ")\n",
    "ax.plot();"
   ]
  },
  {
   "cell_type": "markdown",
   "metadata": {},
   "source": [
    "Absolutely no fraudulent transactions were in category es_transportation with 85% of all orders."
   ]
  },
  {
   "cell_type": "code",
   "execution_count": null,
   "metadata": {},
   "outputs": [],
   "source": [
    "assert (\n",
    "    len(df.query('category.str.contains(\"es_transportation\") and fraud == 1'))\n",
    "    == 0\n",
    ")"
   ]
  },
  {
   "cell_type": "markdown",
   "metadata": {},
   "source": [
    "## Fraud Percentages by Category\n",
    "\n",
    "1. `es_leisure`: 95%\n",
    "2. `es_travel`: 79%\n",
    "3. `es_sportsandtoys`: 50%\n",
    "4. `es_hotelservices`: 31%\n",
    "5. `es_otherservices`: 25%\n",
    "6. `es_home`: 15%\n",
    "7. `es_health`: 11%\n",
    "8. `es_tech`: 7%\n",
    "9. `es_wellnessandbeauty`: 5%\n",
    "10. `es_hyper`: 5%\n",
    "11. `es_barsandrestaurants`: 2%\n",
    "12. `es_fashion`: 2%\n",
    "13: `es_contents`, `es_food`, `es_transportation`: 0%"
   ]
  },
  {
   "cell_type": "code",
   "execution_count": null,
   "metadata": {},
   "outputs": [],
   "source": [
    "merchant_grouping[merchant_grouping[\"fraud\"] == 1].sort_values(\n",
    "    \"proportion\", ascending=False\n",
    ")"
   ]
  },
  {
   "cell_type": "markdown",
   "metadata": {},
   "source": [
    "## Highest Fraud Rates per Merchant\n",
    "- 'M1294758098': 0.963351\n",
    "- 'M3697346': 0.941558\n",
    "- 'M1873032707': 0.864000\n",
    "- 'M732195782': 0.851974\n",
    "- 'M980657600': 0.832109\n",
    "- 'M1353266412': 0.820513\n",
    "- 'M857378720': 0.754098\n",
    "- 'M2080407379': 0.750000\n",
    "- 'M2011752106': 0.680328\n",
    "- 'M17379832': 0.631206\n",
    "- 'M2122776122': 0.586510\n",
    "\n",
    "Interesting note: Only 30 merchants had fraudulent transactions placed. Really low number."
   ]
  },
  {
   "cell_type": "code",
   "execution_count": null,
   "metadata": {},
   "outputs": [],
   "source": [
    "customer_grouping[customer_grouping[\"fraud\"] == 1].sort_values(\n",
    "    \"proportion\", ascending=False\n",
    ").query(\"proportion > 0.5\")\n",
    "# Potentially some more complex analysis here to understand the percentiles (how many customers commit fraud 90-100% of the time, 80-90% etc)"
   ]
  },
  {
   "cell_type": "code",
   "execution_count": null,
   "metadata": {},
   "outputs": [],
   "source": [
    "df[\"moving\"] = df.groupby([\"customer\"])[\"amount\"].transform(\n",
    "    lambda x: x.rolling(10, 1).mean()\n",
    ")"
   ]
  },
  {
   "cell_type": "code",
   "execution_count": null,
   "metadata": {},
   "outputs": [],
   "source": [
    "df[\"Transactions Completed\"] = 1\n",
    "MAX_CUSTOMER_TRANSACTIONS = df.groupby(\"customer\")[\"fraud\"].count().max()\n",
    "df[\"Customer Transaction Number\"] = df.groupby([\"customer\"])[\n",
    "    \"Transactions Completed\"\n",
    "].transform(lambda x: x.rolling(MAX_CUSTOMER_TRANSACTIONS, 1).sum())"
   ]
  },
  {
   "cell_type": "markdown",
   "metadata": {},
   "source": [
    "# Highest Fraud Rates per Customer\n",
    "- 'C910454738': 0.945652\n",
    "- 'C2004941826': 0.944444\n",
    "- 'C381007057': 0.890000\n",
    "- 'C1572610482': 0.881188\n",
    "- 'C617723960': 0.869565\n",
    "- 'C2113737065': 0.868132\n",
    "- 'C2060410910': 0.846154\n",
    "- 'C483912131': 0.816327\n",
    "- 'C1809646275': 0.800000\n",
    "- 'C1817318774': 0.776786\n",
    "- 'C1350963410': 0.753927\n",
    "- 'C1849046345': 0.742690\n",
    "- 'C1175850429': 0.725664\n",
    "- 'C371517012': 0.720000\n",
    "- 'C1233811793': 0.714286\n",
    "- 'C1454826238': 0.700000\n",
    "- 'C126638730': 0.681818\n",
    "- 'C611182051': 0.671642\n",
    "- 'C1803182614': 0.666667\n",
    "- 'C231476583': 0.640000\n",
    "- 'C1464489812': 0.634783\n",
    "- 'C932908444': 0.632353\n",
    "- 'C1237248073': 0.629630\n",
    "- 'C650117238': 0.625000\n",
    "- 'C245117318': 0.620370\n",
    "- 'C1685492470': 0.606742\n",
    "- 'C1562081159': 0.600000\n",
    "- 'C1338125837': 0.552632\n",
    "- 'C204205576': 0.550000\n",
    "- 'C616715154': 0.547619\n",
    "- 'C751887992': 0.541667\n",
    "- 'C1560904250': 0.538462\n",
    "- 'C1994178184': 0.537736\n",
    "- 'C806399525': 0.527426\n",
    "- 'C1163388474': 0.526316\n",
    "- 'C894204131': 0.523810\n",
    "- 'C1653588482': 0.517857"
   ]
  },
  {
   "cell_type": "markdown",
   "metadata": {},
   "source": [
    "## How Many Transactions are Customers Making?\n",
    "By grouping the data on the customer, we observe the following:\n",
    "- Customers can make anywhere from 5 to 265 Transactions over the 180 Steps\n",
    "- Most customers lie within the range of 150-180 transactions (i.e. are making a transaction/day)\n",
    "- There is a sharp dropoff after 180 transactions, with only 3% of customers having more than 180 Transactions\n",
    "\n",
    "Feature Possibilities:\n",
    "- Average Value of Previous Transactions\n",
    "- Number of Previous Transactions\n",
    "- Has Been Fraudulent in a Previous Transaction"
   ]
  },
  {
   "cell_type": "code",
   "execution_count": null,
   "metadata": {},
   "outputs": [],
   "source": [
    "\n",
    "\n",
    "print_description(unique_transactions_by_customer)\n",
    "print(\n",
    "    f\"Proportion of Customers with >180 Transactions: {unique_transactions_by_customer[unique_transactions_by_customer > 180].count() / unique_transactions_by_customer.count():.2f}\"\n",
    ")\n",
    "\n",
    "\n",
    "ax = unique_transactions_by_customer.hist()\n",
    "ax.set_xlabel(\"Number of Transactions\")\n",
    "ax.set_xlabel(\"Number of Customers\")\n",
    "ax.set_title(\"Number of Transactions per Unique Customer\")\n",
    "ax.plot();"
   ]
  },
  {
   "cell_type": "markdown",
   "metadata": {},
   "source": [
    "## Amount"
   ]
  },
  {
   "cell_type": "code",
   "execution_count": null,
   "metadata": {},
   "outputs": [],
   "source": [
    "print_description(df[\"amount\"])\n",
    "print_description(df[\"customer\"])\n",
    "\n",
    "ax = average_amount_by_customer.hist()\n",
    "\n",
    "ax.set_xlabel(\"Average Transaction Value\")\n",
    "ax.set_ylabel(\"Number of Customers\")\n",
    "ax.set_title(\"Average Transaction Value Counts by Customer\")\n",
    "ax.plot();"
   ]
  },
  {
   "cell_type": "markdown",
   "metadata": {},
   "source": [
    "## Separation between Fraudulent & Non-Fraudulent Transactions by Amount"
   ]
  },
  {
   "cell_type": "code",
   "execution_count": null,
   "metadata": {},
   "outputs": [],
   "source": [
    "fig, ax = plt.subplots(1, 1)\n",
    "sns.histplot(np.log1p(df_fraud[\"amount\"]), color=\"red\", ax=ax)\n",
    "sns.histplot(np.log1p(df_no_fraud[\"amount\"]), color=\"blue\", ax=ax)\n",
    "ax.legend(labels=[\"Fraudulent\", \"Not Fraudulent\"])\n",
    "ax.set_xlabel(\"Transaction Amount (Log)\")\n",
    "ax.set_ylabel(\"Number of Transactions\")\n",
    "ax.set_title(\n",
    "    \"Separation between Fraudulent & Non-Fraudulent Transaction by Transaction Amount\"\n",
    ")\n",
    "ax.plot();"
   ]
  },
  {
   "cell_type": "code",
   "execution_count": null,
   "metadata": {},
   "outputs": [],
   "source": [
    "fig, ax = plt.subplots(1, 1, figsize=(5, 15))\n",
    "df[\"log_amount\"] = np.log1p(df[\"amount\"])\n",
    "sns.violinplot(\n",
    "    data=df,\n",
    "    x=\"log_amount\",\n",
    "    y=\"category\",\n",
    "    hue=\"fraud\",\n",
    "    bw=0.25,\n",
    "    cut=0,\n",
    "    split=True,\n",
    "    ax=ax,\n",
    ")"
   ]
  }
 ],
 "metadata": {
  "kernelspec": {
   "display_name": "Python 3 (ipykernel)",
   "language": "python",
   "name": "python3"
  },
  "language_info": {
   "codemirror_mode": {
    "name": "ipython",
    "version": 3
   },
   "file_extension": ".py",
   "mimetype": "text/x-python",
   "name": "python",
   "nbconvert_exporter": "python",
   "pygments_lexer": "ipython3",
   "version": "3.9.15"
  },
  "vscode": {
   "interpreter": {
    "hash": "246045aacf2e17d755aa090c4afeac54f892a9c5f9e3d8c8bd024131ea4861d1"
   }
  }
 },
 "nbformat": 4,
 "nbformat_minor": 4
}
