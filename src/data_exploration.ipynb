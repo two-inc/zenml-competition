{
 "cells": [
  {
   "cell_type": "markdown",
   "metadata": {},
   "source": [
    "# Detecting Fraudulent Financial Transactions\n",
    "\n",
    "The purpose of this analysis is to initially explore the data to identify variables that correlate with fraudulent transactions, cleanse the data, and exclude any data we deem to be irrelevant.\n",
    "\n",
    "This cleansed dataset will then be fed into our machine learning model to developer a generalized model for fraud detection.\n",
    "\n",
    "NB: At first glance, this data looks to be be heavily skewed towards fraudulent orders hidden within repeat customer orders, so the eventual model will be better suited to identifying repeat order fraud, and much less so first order fraud.\n",
    "    - This is based on the understanding that `step` is the x order placed by a customer for a merchant, but this may be incorrect."
   ]
  },
  {
   "cell_type": "code",
   "execution_count": 1,
   "metadata": {},
   "outputs": [
    {
     "name": "stdout",
     "output_type": "stream",
     "text": [
      "Length of dataset: 594643\n"
     ]
    },
    {
     "data": {
      "text/html": [
       "<div>\n",
       "<style scoped>\n",
       "    .dataframe tbody tr th:only-of-type {\n",
       "        vertical-align: middle;\n",
       "    }\n",
       "\n",
       "    .dataframe tbody tr th {\n",
       "        vertical-align: top;\n",
       "    }\n",
       "\n",
       "    .dataframe thead th {\n",
       "        text-align: right;\n",
       "    }\n",
       "</style>\n",
       "<table border=\"1\" class=\"dataframe\">\n",
       "  <thead>\n",
       "    <tr style=\"text-align: right;\">\n",
       "      <th></th>\n",
       "      <th>step</th>\n",
       "      <th>customer</th>\n",
       "      <th>age</th>\n",
       "      <th>gender</th>\n",
       "      <th>zipcodeOri</th>\n",
       "      <th>merchant</th>\n",
       "      <th>zipMerchant</th>\n",
       "      <th>category</th>\n",
       "      <th>amount</th>\n",
       "      <th>fraud</th>\n",
       "    </tr>\n",
       "  </thead>\n",
       "  <tbody>\n",
       "    <tr>\n",
       "      <th>0</th>\n",
       "      <td>0</td>\n",
       "      <td>'C1093826151'</td>\n",
       "      <td>'4'</td>\n",
       "      <td>'M'</td>\n",
       "      <td>'28007'</td>\n",
       "      <td>'M348934600'</td>\n",
       "      <td>'28007'</td>\n",
       "      <td>'es_transportation'</td>\n",
       "      <td>4.55</td>\n",
       "      <td>0</td>\n",
       "    </tr>\n",
       "    <tr>\n",
       "      <th>1</th>\n",
       "      <td>0</td>\n",
       "      <td>'C352968107'</td>\n",
       "      <td>'2'</td>\n",
       "      <td>'M'</td>\n",
       "      <td>'28007'</td>\n",
       "      <td>'M348934600'</td>\n",
       "      <td>'28007'</td>\n",
       "      <td>'es_transportation'</td>\n",
       "      <td>39.68</td>\n",
       "      <td>0</td>\n",
       "    </tr>\n",
       "    <tr>\n",
       "      <th>2</th>\n",
       "      <td>0</td>\n",
       "      <td>'C2054744914'</td>\n",
       "      <td>'4'</td>\n",
       "      <td>'F'</td>\n",
       "      <td>'28007'</td>\n",
       "      <td>'M1823072687'</td>\n",
       "      <td>'28007'</td>\n",
       "      <td>'es_transportation'</td>\n",
       "      <td>26.89</td>\n",
       "      <td>0</td>\n",
       "    </tr>\n",
       "    <tr>\n",
       "      <th>3</th>\n",
       "      <td>0</td>\n",
       "      <td>'C1760612790'</td>\n",
       "      <td>'3'</td>\n",
       "      <td>'M'</td>\n",
       "      <td>'28007'</td>\n",
       "      <td>'M348934600'</td>\n",
       "      <td>'28007'</td>\n",
       "      <td>'es_transportation'</td>\n",
       "      <td>17.25</td>\n",
       "      <td>0</td>\n",
       "    </tr>\n",
       "    <tr>\n",
       "      <th>4</th>\n",
       "      <td>0</td>\n",
       "      <td>'C757503768'</td>\n",
       "      <td>'5'</td>\n",
       "      <td>'M'</td>\n",
       "      <td>'28007'</td>\n",
       "      <td>'M348934600'</td>\n",
       "      <td>'28007'</td>\n",
       "      <td>'es_transportation'</td>\n",
       "      <td>35.72</td>\n",
       "      <td>0</td>\n",
       "    </tr>\n",
       "  </tbody>\n",
       "</table>\n",
       "</div>"
      ],
      "text/plain": [
       "   step       customer  age gender zipcodeOri       merchant zipMerchant             category  amount  fraud\n",
       "0     0  'C1093826151'  '4'    'M'    '28007'   'M348934600'     '28007'  'es_transportation'    4.55      0\n",
       "1     0   'C352968107'  '2'    'M'    '28007'   'M348934600'     '28007'  'es_transportation'   39.68      0\n",
       "2     0  'C2054744914'  '4'    'F'    '28007'  'M1823072687'     '28007'  'es_transportation'   26.89      0\n",
       "3     0  'C1760612790'  '3'    'M'    '28007'   'M348934600'     '28007'  'es_transportation'   17.25      0\n",
       "4     0   'C757503768'  '5'    'M'    '28007'   'M348934600'     '28007'  'es_transportation'   35.72      0"
      ]
     },
     "execution_count": 1,
     "metadata": {},
     "output_type": "execute_result"
    }
   ],
   "source": [
    "import pandas as pd\n",
    "import seaborn as sns\n",
    "import numpy as np\n",
    "import matplotlib.pyplot as plt\n",
    "from util.data_access import load_data\n",
    "from util.preprocess import preprocess, cat_columns, drop_columns, has_comitted_fraud_before_list\n",
    "\n",
    "pd.set_option('display.expand_frame_repr', False)\n",
    "\n",
    "\n",
    "df_raw = load_data()\n",
    "print(\"Length of dataset:\", len(df_raw))\n",
    "\n",
    "df_raw.head()"
   ]
  },
  {
   "cell_type": "markdown",
   "metadata": {},
   "source": [
    "# Initial Comments\n",
    "based on the Pandas profiling report\n",
    "\n",
    "## Data Cleansing\n",
    "- 52 non-fraudulent orders have an order amount of 0. None of these orders are fraudulent, so I believe it's safe to remove these orders.\n",
    "- zipMerchant and zipCodeOri are both constant, providing no value. These columns can be removed.\n",
    "\n",
    "## Data Patterns\n",
    "- Average number of orders placed per customer is 95.\n",
    "- Only 4000 customers with 594643 orders, meaning our dataset is highly skewed towards repeat order fraud detection. This is due to the nature our dataset is synthetic.\n",
    "- Gender is highly correlated with age. This skews our model as there should be no significant correlation between gender and age.\n",
    "- Only 50 merchants, and merchant is highly correlated with fraud.\n",
    "- Data is extremely skewed towards the `es_transportation` category (85% of all orders). \n",
    "\n",
    "- Age\n",
    "    - 0: <=18\n",
    "    - 1: 19-25\n",
    "    - 2: 26-35\n",
    "    - 3: 36-45\n",
    "    - 4: 46-55\n",
    "    - 5: 56-65\n",
    "    - 6: >65\n",
    "    - U: Unknown\n",
    "\n",
    "- Gender\n",
    "    - E: Enterprise\n",
    "    - F: Female\n",
    "    - M: Male\n",
    "    - U: Unkown"
   ]
  },
  {
   "cell_type": "code",
   "execution_count": 2,
   "metadata": {},
   "outputs": [
    {
     "name": "stdout",
     "output_type": "stream",
     "text": [
      "Length of 0 amount orders: 52\n"
     ]
    }
   ],
   "source": [
    "print(\"Length of 0 amount orders:\", len(df_raw.query('amount == 0')))\n",
    "assert len(df_raw.query('amount == 0 and fraud == 1')) == 0\n",
    "\n",
    "drop_columns = ['zipMerchant','zipcodeOri']\n",
    "df = preprocess(df_raw, cat_columns, drop_columns) \n"
   ]
  },
  {
   "cell_type": "code",
   "execution_count": 3,
   "metadata": {},
   "outputs": [],
   "source": [
    "## Data Subsets\n",
    "df_fraud = df[df.loc[:,'fraud'] == 1]\n",
    "df_no_fraud = df[df.loc[:,'fraud'] == 0]\n",
    "\n",
    "customer_grouping = df.groupby('customer')['fraud'].value_counts(normalize=True).rename('proportion').reset_index(level=1)\n",
    "merchant_grouping = df.groupby('merchant')['fraud'].value_counts(normalize=True).rename('proportion').reset_index(level=1)\n",
    "average_amount_by_customer = df.groupby('customer')['amount'].mean()\n",
    "unique_transactions_by_customer = df.groupby('customer').count()['fraud'].sort_values()\n",
    "fraud_proportion_by_category = df.groupby(by=[\"category\"])['fraud'].value_counts(normalize=True).rename('proportion').reset_index()"
   ]
  },
  {
   "cell_type": "code",
   "execution_count": 4,
   "metadata": {},
   "outputs": [
    {
     "data": {
      "text/plain": [
       "customer\n",
       "C1000148617     35.091908\n",
       "C100045114      90.336239\n",
       "C1000699316     38.154894\n",
       "C1001065306    204.754667\n",
       "C1002658784     34.253282\n",
       "                  ...    \n",
       "C99729647       32.555771\n",
       "C998690782      61.211637\n",
       "C998987490      32.273107\n",
       "C999393223      36.018944\n",
       "C999723254      29.184016\n",
       "Name: amount, Length: 4112, dtype: float64"
      ]
     },
     "execution_count": 4,
     "metadata": {},
     "output_type": "execute_result"
    }
   ],
   "source": [
    "average_amount_by_customer"
   ]
  },
  {
   "cell_type": "code",
   "execution_count": null,
   "metadata": {},
   "outputs": [],
   "source": [
    "# Percentage of fraudulent orders\n",
    "fig, ax = plt.subplots(1,1, figsize=(10,10))\n",
    "\n",
    "sns.barplot(\n",
    "    data=fraud_proportion_by_category,\n",
    "    y='category',\n",
    "    x='proportion',\n",
    "    hue='fraud',\n",
    "    ax=ax,\n",
    "    dodge=False\n",
    ")\n",
    "ax.set_xlabel('Transaction Proportion')\n",
    "ax.set_ylabel('Category')\n",
    "ax.set_title('Proportion of Fraudulent vs. Non-Fraudulent Transactions by Category')\n",
    "ax.plot();"
   ]
  },
  {
   "cell_type": "markdown",
   "metadata": {},
   "source": [
    "Absolutely no fraudulent transactions were in category es_transportation with 85% of all orders."
   ]
  },
  {
   "cell_type": "code",
   "execution_count": null,
   "metadata": {},
   "outputs": [],
   "source": [
    "assert len(df.query('category.str.contains(\"es_transportation\") and fraud == 1')) == 0"
   ]
  },
  {
   "cell_type": "markdown",
   "metadata": {},
   "source": [
    "## Fraud Percentages by Category\n",
    "\n",
    "1. `es_leisure`: 95%\n",
    "2. `es_travel`: 79%\n",
    "3. `es_sportsandtoys`: 50%\n",
    "4. `es_hotelservices`: 31%\n",
    "5. `es_otherservices`: 25%\n",
    "6. `es_home`: 15%\n",
    "7. `es_health`: 11%\n",
    "8. `es_tech`: 7%\n",
    "9. `es_wellnessandbeauty`: 5%\n",
    "10. `es_hyper`: 5%\n",
    "11. `es_barsandrestaurants`: 2%\n",
    "12. `es_fashion`: 2%\n",
    "13: `es_contents`, `es_food`, `es_transportation`: 0%"
   ]
  },
  {
   "cell_type": "code",
   "execution_count": null,
   "metadata": {},
   "outputs": [],
   "source": [
    "merchant_grouping[merchant_grouping['fraud'] == 1].sort_values('proportion',ascending=False) "
   ]
  },
  {
   "cell_type": "markdown",
   "metadata": {},
   "source": [
    "## Highest Fraud Rates per Merchant\n",
    "- 'M1294758098': 0.963351\n",
    "- 'M3697346': 0.941558\n",
    "- 'M1873032707': 0.864000\n",
    "- 'M732195782': 0.851974\n",
    "- 'M980657600': 0.832109\n",
    "- 'M1353266412': 0.820513\n",
    "- 'M857378720': 0.754098\n",
    "- 'M2080407379': 0.750000\n",
    "- 'M2011752106': 0.680328\n",
    "- 'M17379832': 0.631206\n",
    "- 'M2122776122': 0.586510\n",
    "\n",
    "Interesting note: Only 30 merchants had fraudulent transactions placed. Really low number."
   ]
  },
  {
   "cell_type": "code",
   "execution_count": null,
   "metadata": {},
   "outputs": [],
   "source": [
    "customer_grouping[customer_grouping['fraud'] == 1].sort_values('proportion',ascending=False).query('proportion > 0.5')\n",
    "# Potentially some more complex analysis here to understand the percentiles (how many customers commit fraud 90-100% of the time, 80-90% etc)"
   ]
  },
  {
   "cell_type": "code",
   "execution_count": null,
   "metadata": {},
   "outputs": [],
   "source": [
    "non_fraud_customer_ids = customer_grouping.query('fraud == 0').query('proportion == 1').reset_index()['customer']\n",
    "fraud_customer_ids = df[~df['customer'].isin(non_fraud_customers.values)]['customer'].unique()\n",
    "assert len(non_fraud_customer_ids) + len(fraud_customer_ids) == len(df.customer.unique())\n",
    "\n",
    "df_fraud_customer = df[df.customer.isin(fraud_customer_ids)]\n",
    "df_non_fraud_customer = df[df.customer.isin(non_fraud_customer_ids)]\n"
   ]
  },
  {
   "cell_type": "code",
   "execution_count": null,
   "metadata": {},
   "outputs": [],
   "source": [
    "df['moving'] = df.groupby(['customer'])['amount'].transform(lambda x: x.rolling(10, 1).mean())"
   ]
  },
  {
   "cell_type": "code",
   "execution_count": null,
   "metadata": {},
   "outputs": [],
   "source": [
    "random_fraud_customer = np.random.choice(fraud_customer_ids)"
   ]
  },
  {
   "cell_type": "code",
   "execution_count": null,
   "metadata": {},
   "outputs": [],
   "source": [
    "df[df.customer == random_fraud_customer]"
   ]
  },
  {
   "cell_type": "code",
   "execution_count": null,
   "metadata": {},
   "outputs": [],
   "source": [
    "random_customer_slice = df[df.customer == random_fraud_customer].reset_index(drop=True).reset_index()\n",
    "rcs_fraud_list = random_customer_slice['fraud'].tolist()"
   ]
  },
  {
   "cell_type": "code",
   "execution_count": null,
   "metadata": {},
   "outputs": [],
   "source": [
    "len(random_customer_slice)"
   ]
  },
  {
   "cell_type": "code",
   "execution_count": null,
   "metadata": {},
   "outputs": [],
   "source": [
    "has_comitted_fraud_before_list(rcs_fraud_list)\n",
    "\n",
    "random_customer_slice['has_commited_fraud_before'] = has_comitted_fraud_before_list(random_customer_slice['fraud'])\n",
    "\n"
   ]
  },
  {
   "cell_type": "markdown",
   "metadata": {},
   "source": [
    "# Highest Fraud Rates per Customer\n",
    "- 'C910454738': 0.945652\n",
    "- 'C2004941826': 0.944444\n",
    "- 'C381007057': 0.890000\n",
    "- 'C1572610482': 0.881188\n",
    "- 'C617723960': 0.869565\n",
    "- 'C2113737065': 0.868132\n",
    "- 'C2060410910': 0.846154\n",
    "- 'C483912131': 0.816327\n",
    "- 'C1809646275': 0.800000\n",
    "- 'C1817318774': 0.776786\n",
    "- 'C1350963410': 0.753927\n",
    "- 'C1849046345': 0.742690\n",
    "- 'C1175850429': 0.725664\n",
    "- 'C371517012': 0.720000\n",
    "- 'C1233811793': 0.714286\n",
    "- 'C1454826238': 0.700000\n",
    "- 'C126638730': 0.681818\n",
    "- 'C611182051': 0.671642\n",
    "- 'C1803182614': 0.666667\n",
    "- 'C231476583': 0.640000\n",
    "- 'C1464489812': 0.634783\n",
    "- 'C932908444': 0.632353\n",
    "- 'C1237248073': 0.629630\n",
    "- 'C650117238': 0.625000\n",
    "- 'C245117318': 0.620370\n",
    "- 'C1685492470': 0.606742\n",
    "- 'C1562081159': 0.600000\n",
    "- 'C1338125837': 0.552632\n",
    "- 'C204205576': 0.550000\n",
    "- 'C616715154': 0.547619\n",
    "- 'C751887992': 0.541667\n",
    "- 'C1560904250': 0.538462\n",
    "- 'C1994178184': 0.537736\n",
    "- 'C806399525': 0.527426\n",
    "- 'C1163388474': 0.526316\n",
    "- 'C894204131': 0.523810\n",
    "- 'C1653588482': 0.517857"
   ]
  },
  {
   "cell_type": "markdown",
   "metadata": {},
   "source": [
    "## How Many Transactions are Customers Making?\n",
    "By grouping the data on the customer, we observe the following:\n",
    "- Customers can make anywhere from 5 to 265 Transactions over the 180 Steps\n",
    "- Most customers lie within the range of 150-180 transactions (i.e. are making a transaction/day)\n",
    "- There is a sharp dropoff after 180 transactions, with only 3% of customers having more than 180 Transactions\n",
    "\n",
    "Feature Possibilities:\n",
    "- Average Value of Previous Transactions\n",
    "- Number of Previous Transactions\n",
    "- Has Been Fraudulent in a Previous Transaction"
   ]
  },
  {
   "cell_type": "code",
   "execution_count": null,
   "metadata": {},
   "outputs": [],
   "source": [
    "import matplotlib.pyplot as plt\n",
    "print_description(unique_transactions_by_customer)\n",
    "print(f'Proportion of Customers with >180 Transactions: {unique_transactions_by_customer[unique_transactions_by_customer > 180].count() / unique_transactions_by_customer.count():.2f}')\n",
    "\n",
    "\n",
    "ax = unique_transactions_by_customer.hist()\n",
    "ax.set_xlabel('Number of Transactions')\n",
    "ax.set_xlabel('Number of Customers')\n",
    "ax.set_title('Number of Transactions per Unique Customer')\n",
    "ax.plot();"
   ]
  },
  {
   "cell_type": "markdown",
   "metadata": {},
   "source": [
    "## Amount"
   ]
  },
  {
   "cell_type": "code",
   "execution_count": null,
   "metadata": {},
   "outputs": [],
   "source": [
    "print_description(df['amount'])\n",
    "print_description(df['customer'])\n",
    "\n",
    "ax = average_amount_by_customer.hist()\n",
    "\n",
    "ax.set_xlabel('Average Transaction Value')\n",
    "ax.set_ylabel('Number of Customers')\n",
    "ax.set_title('Average Transaction Value Counts by Customer')\n",
    "ax.plot();"
   ]
  },
  {
   "cell_type": "markdown",
   "metadata": {},
   "source": [
    "## Separation between Fraudulent & Non-Fraudulent Transactions by Amount"
   ]
  },
  {
   "cell_type": "code",
   "execution_count": null,
   "metadata": {},
   "outputs": [],
   "source": [
    "fig, ax = plt.subplots(1,1)\n",
    "sns.histplot(np.log1p(df_fraud['amount']), color='red', ax=ax)\n",
    "sns.histplot(np.log1p(df_no_fraud['amount']), color='blue', ax=ax)\n",
    "ax.legend(labels=['Fraudulent','Not Fraudulent'])\n",
    "ax.set_xlabel('Transaction Amount (Log)')\n",
    "ax.set_ylabel('Number of Transactions')\n",
    "ax.set_title('Separation between Fraudulent & Non-Fraudulent Transaction by Transaction Amount')\n",
    "ax.plot();"
   ]
  },
  {
   "cell_type": "code",
   "execution_count": null,
   "metadata": {},
   "outputs": [],
   "source": [
    "fig, ax = plt.subplots(1,1,figsize=(5,15))\n",
    "df['log_amount'] = np.log1p(df['amount'])\n",
    "sns.violinplot(\n",
    "    data=df, x=\"log_amount\", y=\"category\", hue=\"fraud\",\n",
    "    bw=.25, cut=0, split=True,\n",
    "    ax=ax\n",
    ")"
   ]
  },
  {
   "cell_type": "code",
   "execution_count": null,
   "metadata": {},
   "outputs": [],
   "source": []
  }
 ],
 "metadata": {
  "kernelspec": {
   "display_name": "Python 3.9.2 ('env': venv)",
   "language": "python",
   "name": "python3"
  },
  "language_info": {
   "codemirror_mode": {
    "name": "ipython",
    "version": 3
   },
   "file_extension": ".py",
   "mimetype": "text/x-python",
   "name": "python",
   "nbconvert_exporter": "python",
   "pygments_lexer": "ipython3",
   "version": "3.9.2"
  },
  "vscode": {
   "interpreter": {
    "hash": "246045aacf2e17d755aa090c4afeac54f892a9c5f9e3d8c8bd024131ea4861d1"
   }
  }
 },
 "nbformat": 4,
 "nbformat_minor": 2
}
